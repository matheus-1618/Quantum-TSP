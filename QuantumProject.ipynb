{
 "cells": [
  {
   "cell_type": "markdown",
   "id": "4875d71e-127f-41c2-9c00-ef65309724a7",
   "metadata": {},
   "source": [
    "# Introduction to Quantum Computing Project\n",
    "## Traveling Salesman Problem\n",
    "\n",
    "**Students**\n",
    "* Matheus Silva Melo de Oliveira\n",
    "* Nívea de Abreu Dantas Lima"
   ]
  },
  {
   "cell_type": "markdown",
   "id": "07f5078e-5431-4539-97a0-fb3a807d113b",
   "metadata": {},
   "source": [
    "# The Traveling Salesman Problem\n",
    "\n",
    "The Traveling Salesman Problem (TSP) is a well-known and notoriously complex problem in the field of combinatorial optimization. It is often used to exemplify the challenges and computational difficulties associated with solving optimization problems. TSP can be succinctly described as follows:\n",
    "\n",
    "**Problem Statement:**\n",
    "\n",
    "*Given a list of cities and the distances between each pair of cities, the objective of the TSP is to find the shortest possible route that visits each city exactly once and returns to the starting city.*\n",
    "\n",
    "## Complexity\n",
    "\n",
    "TSP belongs to a class of problems known as NP-hard (Nondeterministic Polynomial-time hard), which means that it is computationally intractable to find an optimal solution in polynomial time as the problem size increases. The complexity of TSP arises from several factors:\n",
    "\n",
    "1. **Exponential Growth**: As the number of cities (n) increases, the number of possible routes to consider grows factorially, making the problem's solution space explode. There are n! (n factorial) possible permutations of cities to visit, which quickly becomes unmanageable for large values of n.\n",
    "\n",
    "2. **Non-Polynomial Time**: TSP belongs to the class of problems that do not have known algorithms to solve them in polynomial time. This means that as the problem size grows, the time required to find an optimal solution grows exponentially.\n",
    "\n",
    "3. **Combinatorial Nature**: TSP is a combinatorial optimization problem, which requires evaluating all possible combinations to find the optimal route. This makes it computationally demanding because it demands searching through an immense solution space.\n",
    "\n",
    "## Computational Difficulty\n",
    "\n",
    "The computational difficulty of TSP has several real-world implications:\n",
    "\n",
    "1. **Resource-Intensive**: Solving TSP for a large number of cities can take a significant amount of time and computational resources, making it impractical for many real-world applications.\n",
    "\n",
    "2. **Heuristic Approaches**: To address the computational difficulty, heuristic and approximation algorithms are often used to find near-optimal solutions. These algorithms sacrifice guaranteed optimality for computational efficiency.\n",
    "\n",
    "3. **Applications**: TSP has applications in various fields, such as logistics, transportation, and circuit design. The computational difficulty of solving TSP has real-world implications in these domains, as finding the most efficient routes can significantly impact costs and resources.\n",
    "\n",
    "In conclusion, the Traveling Salesman Problem is a classic example of a computationally challenging problem due to its exponential growth in solution space, non-polynomial time complexity, and combinatorial nature. While there are ways to tackle TSP, finding the optimal solution for large instances remains a daunting computational task."
   ]
  },
  {
   "cell_type": "markdown",
   "id": "ba6a4f16-a112-4ee7-8b8a-6a133373a8f2",
   "metadata": {},
   "source": [
    "## Force Brute Approach\n",
    "We can iterate all permutations of paths and select the best one. \n",
    "\n",
    "Although it always return the optimal solution it is too expensive in computational terms."
   ]
  },
  {
   "cell_type": "code",
   "execution_count": 1,
   "id": "530a812c-c5aa-4ced-8ca3-559a0ff21d03",
   "metadata": {},
   "outputs": [
    {
     "name": "stdout",
     "output_type": "stream",
     "text": [
      "Shortest Path: (0, 2, 1, 3)\n",
      "Minimum Distance: 74\n"
     ]
    }
   ],
   "source": [
    "import itertools\n",
    "\n",
    "def calculate_total_distance(path, distances):\n",
    "    total_distance = 0\n",
    "    for i in range(len(path) - 1):\n",
    "        total_distance += distances[path[i]][path[i + 1]]\n",
    "    total_distance += distances[path[-1]][path[0]]\n",
    "    return total_distance\n",
    "\n",
    "def brute_force_tsp(distances):\n",
    "    num_cities = len(distances)\n",
    "    cities = list(range(num_cities))\n",
    "    shortest_path = None\n",
    "    min_distance = float('inf')\n",
    "\n",
    "    for perm in itertools.permutations(cities):\n",
    "        total_distance = calculate_total_distance(perm, distances)\n",
    "        if total_distance < min_distance:\n",
    "            min_distance = total_distance\n",
    "            shortest_path = perm\n",
    "\n",
    "    return shortest_path, min_distance\n",
    "\n",
    "distances = [\n",
    "    [0, 29, 20, 21],\n",
    "    [29, 0, 15, 18],\n",
    "    [20, 15, 0, 28],\n",
    "    [21, 18, 28, 0]\n",
    "]\n",
    "\n",
    "shortest_path, min_distance = brute_force_tsp(distances)\n",
    "print(\"Shortest Path:\", shortest_path)\n",
    "print(\"Minimum Distance:\", min_distance)"
   ]
  },
  {
   "cell_type": "markdown",
   "id": "5087a961-e038-46e3-80e9-9a4b7a294123",
   "metadata": {},
   "source": [
    "## Heuristic Approach:\n",
    "\n",
    "We can use one of the properties of the problem and use it to achieve good solutions in better time complexity. One possible on is selecting the nearest nodes around the current node."
   ]
  },
  {
   "cell_type": "code",
   "execution_count": 2,
   "id": "67acaf35-b806-4e1b-a90b-553574ed6d01",
   "metadata": {
    "tags": []
   },
   "outputs": [
    {
     "name": "stdout",
     "output_type": "stream",
     "text": [
      "Shortest Path: [0, 2, 1, 3, 0]\n",
      "Minimum Distance: 74\n"
     ]
    }
   ],
   "source": [
    "import numpy as np\n",
    "\n",
    "def nearest_neighbor_tsp(distances):\n",
    "    num_cities = len(distances)\n",
    "    unvisited_cities = list(range(num_cities))\n",
    "    path = [0] \n",
    "    unvisited_cities.remove(0)\n",
    "\n",
    "    while unvisited_cities:\n",
    "        current_city = path[-1]\n",
    "        nearest_city = min(unvisited_cities, key=lambda city: distances[current_city][city])\n",
    "        path.append(nearest_city)\n",
    "        unvisited_cities.remove(nearest_city)\n",
    "\n",
    "    path.append(path[0])\n",
    "\n",
    "    total_distance = sum(distances[path[i]][path[i + 1]] for i in range(num_cities))\n",
    "\n",
    "    return path, total_distance\n",
    "\n",
    "distances = np.array([\n",
    "    [0, 29, 20, 21],\n",
    "    [29, 0, 15, 18],\n",
    "    [20, 15, 0, 28],\n",
    "    [21, 18, 28, 0]\n",
    "])\n",
    "\n",
    "shortest_path, min_distance = nearest_neighbor_tsp(distances)\n",
    "print(\"Shortest Path:\", shortest_path)\n",
    "print(\"Minimum Distance:\", min_distance)\n"
   ]
  },
  {
   "cell_type": "markdown",
   "id": "1f187531-a1fc-4299-83e4-7e1421cdb1fd",
   "metadata": {},
   "source": [
    "## Quantum Computing Approach\n",
    "\n",
    "As we've seen, in classical computing, there isn't a optimal solution in polynomial time, we have to choose one to be privileged. \n",
    "\n",
    "However, using **Quantum parallelism** could optimize the solution and give optimial solutions in almost polynomial time.\n",
    "\n",
    "## Why Quantum Computing can solve some NP-hard problems\n",
    "\n",
    "Quantum computing and the concept of parallelism hold great promise in addressing NP (nondeterministic polynomial) problems, which encompass a wide range of computationally challenging issues. The core advantage of quantum computing lies in its ability to manipulate quantum bits or qubits, which can exist in multiple states simultaneously due to superposition. This inherent parallelism allows quantum computers to explore numerous potential solutions at the same time, significantly reducing the time required to find optimal answers.\n",
    "\n",
    "Furthermore, qubits can be entangled, meaning the state of one qubit depends on the state of another. This entanglement enables the exploration of complex relationships and dependencies within NP problems, providing a powerful tool for efficient problem-solving.\n",
    "\n",
    "One well-known algorithm that leverages quantum parallelism is Grover's algorithm, which offers a quadratic speedup for unstructured search problems, such as finding an item in an unsorted database.\n",
    "\n",
    "In addition to superposition and entanglement, quantum annealing, a specialized form of quantum computing, can be employed to optimize solutions for specific NP problems. Quantum annealers exploit quantum tunneling to navigate complex solution spaces more efficiently.\n",
    "\n",
    "The advantages of parallelism extend beyond quantum computing. Classical parallel computing, which involves breaking a problem into smaller subtasks that can be processed simultaneously, also plays a significant role in addressing NP problems. By distributing computational load across multiple processors or cores, parallel computing can reduce the time required for complex calculations.\n",
    "\n",
    "In some cases, hybrid models that combine quantum and classical computing techniques are employed. These models allow quantum processors to handle the most computationally intensive portions of NP problems while classical computers manage the remaining aspects.\n",
    "\n",
    "## Using Quantum Computing to solve TSP problem\n",
    "\n",
    "### Defining the Quantum Oracle: Phase Estimation\n",
    "\n",
    "Since the input for the problem is a matrix containing the respective distances from the current node to a chosen node within the node space presented in the problem. In this way, as we want to perform a search over all possible paths (permutations) and obtain all possible distances for each of these combinations, it is interesting to use a quantum phase estimation oracle that can represent all the phases related to the eigenvectors of the underlying unitary operations.\n",
    "\n",
    "Initially, we need to create a unitary operator that can represent, in terms of complex numbers, each distance from node i to node j.\n",
    "\n",
    "$$b_{ij} = e^{i \\cdot c_{ij}}$$\n",
    "\n",
    "Thus, for each city on the diagonal of the unitary matrix, one can construct a unitary operator U such that:\n",
    "\n",
    "$$u_{ij}^i = b_{ij}$$\n",
    "\n",
    "Constructing each of these \"path\" operators, we can see that the final operation U will be the result of tensor products.\n",
    "\n",
    "$$U = U^{(1)} \\otimes \\ldots \\otimes U^{(n)}$$\n",
    "\n",
    "Once we obtain the eigenvectors of the operator U, we see that multiplying U by its own eigenvectors generates the total length of the Hamiltonian cycle. This cycle refers to a circuit or path that passes through all vertices of a graph exactly once and returns to the initial vertex. This configuration allows us to use a phase estimation algorithm to obtain the duration of any Hamiltonian cycle. We obtain the phases in the form of binary output from the phase estimation algorithm, so we can easily run the quantum algorithm to find the minimum path among all generated permutations.\n"
   ]
  },
  {
   "cell_type": "code",
   "execution_count": 1,
   "id": "c7a5e4f3-fb4f-4a6e-90cb-0e461274f104",
   "metadata": {
    "tags": []
   },
   "outputs": [],
   "source": [
    "# Importing standard Qiskit libraries\n",
    "from qiskit import QuantumCircuit, transpile\n",
    "from qiskit.tools.jupyter import *\n",
    "from qiskit.visualization import *\n",
    "from ibm_quantum_widgets import *\n",
    "\n",
    "# qiskit-ibmq-provider has been deprecated.\n",
    "# Please see the Migration Guides in https://ibm.biz/provider_migration_guide for more detail.\n",
    "from qiskit_ibm_runtime import QiskitRuntimeService, Sampler, Estimator, Session, Options\n",
    "\n",
    "# Loading your IBM Quantum account(s)\n",
    "service = QiskitRuntimeService(channel=\"ibm_quantum\")\n",
    "\n",
    "# Invoke a primitive. For more details see https://qiskit.org/documentation/partners/qiskit_ibm_runtime/tutorials.html\n",
    "# result = Sampler(\"ibmq_qasm_simulator\").run(circuits).result()"
   ]
  },
  {
   "cell_type": "markdown",
   "id": "d3d94ab3-c3fd-4a85-af72-0dfe3bc9872d",
   "metadata": {},
   "source": [
    "## References\n",
    "* https://medium.com/@vasilybokov/traveling-salesman-problem-with-quantum-optimization-solutions-and-perspectives-59137f3241cd\n",
    "\n",
    "* https://nferrazzo.com/static/media/UNIGOU.21b0d123.pdf\n",
    "\n"
   ]
  }
 ],
 "metadata": {
  "kernelspec": {
   "display_name": "Python 3 (ipykernel)",
   "language": "python",
   "name": "python3"
  },
  "language_info": {
   "codemirror_mode": {
    "name": "ipython",
    "version": 3
   },
   "file_extension": ".py",
   "mimetype": "text/x-python",
   "name": "python",
   "nbconvert_exporter": "python",
   "pygments_lexer": "ipython3",
   "version": "3.10.8"
  },
  "widgets": {
   "application/vnd.jupyter.widget-state+json": {
    "state": {},
    "version_major": 2,
    "version_minor": 0
   }
  }
 },
 "nbformat": 4,
 "nbformat_minor": 5
}
