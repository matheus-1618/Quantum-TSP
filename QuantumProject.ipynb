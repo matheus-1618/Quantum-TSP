{
 "cells": [
  {
   "cell_type": "markdown",
   "id": "4875d71e-127f-41c2-9c00-ef65309724a7",
   "metadata": {},
   "source": [
    "# Introduction to Quantum Computing Project\n",
    "## Traveling Salesman Problem\n",
    "\n",
    "**Students**\n",
    "* Matheus Silva Melo de Oliveira\n",
    "* Nívea de Abreu Dantas Lima"
   ]
  },
  {
   "cell_type": "markdown",
   "id": "07f5078e-5431-4539-97a0-fb3a807d113b",
   "metadata": {},
   "source": [
    "# The Traveling Salesman Problem\n",
    "\n",
    "The Traveling Salesman Problem (TSP) is a well-known and notoriously complex problem in the field of combinatorial optimization. It is often used to exemplify the challenges and computational difficulties associated with solving optimization problems. TSP can be succinctly described as follows:\n",
    "\n",
    "**Problem Statement:**\n",
    "Given a list of cities and the distances between each pair of cities, the objective of the TSP is to find the shortest possible route that visits each city exactly once and returns to the starting city.\n",
    "\n",
    "## Complexity\n",
    "\n",
    "TSP belongs to a class of problems known as NP-hard (Nondeterministic Polynomial-time hard), which means that it is computationally intractable to find an optimal solution in polynomial time as the problem size increases. The complexity of TSP arises from several factors:\n",
    "\n",
    "1. **Exponential Growth**: As the number of cities (n) increases, the number of possible routes to consider grows factorially, making the problem's solution space explode. There are n! (n factorial) possible permutations of cities to visit, which quickly becomes unmanageable for large values of n.\n",
    "\n",
    "2. **Non-Polynomial Time**: TSP belongs to the class of problems that do not have known algorithms to solve them in polynomial time. This means that as the problem size grows, the time required to find an optimal solution grows exponentially.\n",
    "\n",
    "3. **Combinatorial Nature**: TSP is a combinatorial optimization problem, which requires evaluating all possible combinations to find the optimal route. This makes it computationally demanding because it demands searching through an immense solution space.\n",
    "\n",
    "## Computational Difficulty\n",
    "\n",
    "The computational difficulty of TSP has several real-world implications:\n",
    "\n",
    "1. **Resource-Intensive**: Solving TSP for a large number of cities can take a significant amount of time and computational resources, making it impractical for many real-world applications.\n",
    "\n",
    "2. **Heuristic Approaches**: To address the computational difficulty, heuristic and approximation algorithms are often used to find near-optimal solutions. These algorithms sacrifice guaranteed optimality for computational efficiency.\n",
    "\n",
    "3. **Applications**: TSP has applications in various fields, such as logistics, transportation, and circuit design. The computational difficulty of solving TSP has real-world implications in these domains, as finding the most efficient routes can significantly impact costs and resources.\n",
    "\n",
    "In conclusion, the Traveling Salesman Problem is a classic example of a computationally challenging problem due to its exponential growth in solution space, non-polynomial time complexity, and combinatorial nature. While there are ways to tackle TSP, finding the optimal solution for large instances remains a daunting computational task."
   ]
  },
  {
   "cell_type": "code",
   "execution_count": null,
   "id": "adf6d918-a92b-4709-bdb7-60cbb4a07712",
   "metadata": {},
   "outputs": [],
   "source": []
  },
  {
   "cell_type": "code",
   "execution_count": null,
   "id": "530a812c-c5aa-4ced-8ca3-559a0ff21d03",
   "metadata": {},
   "outputs": [],
   "source": []
  },
  {
   "cell_type": "code",
   "execution_count": 1,
   "id": "c7a5e4f3-fb4f-4a6e-90cb-0e461274f104",
   "metadata": {
    "tags": []
   },
   "outputs": [],
   "source": [
    "# Importing standard Qiskit libraries\n",
    "from qiskit import QuantumCircuit, transpile\n",
    "from qiskit.tools.jupyter import *\n",
    "from qiskit.visualization import *\n",
    "from ibm_quantum_widgets import *\n",
    "\n",
    "# qiskit-ibmq-provider has been deprecated.\n",
    "# Please see the Migration Guides in https://ibm.biz/provider_migration_guide for more detail.\n",
    "from qiskit_ibm_runtime import QiskitRuntimeService, Sampler, Estimator, Session, Options\n",
    "\n",
    "# Loading your IBM Quantum account(s)\n",
    "service = QiskitRuntimeService(channel=\"ibm_quantum\")\n",
    "\n",
    "# Invoke a primitive. For more details see https://qiskit.org/documentation/partners/qiskit_ibm_runtime/tutorials.html\n",
    "# result = Sampler(\"ibmq_qasm_simulator\").run(circuits).result()"
   ]
  }
 ],
 "metadata": {
  "kernelspec": {
   "display_name": "Python 3 (ipykernel)",
   "language": "python",
   "name": "python3"
  },
  "language_info": {
   "codemirror_mode": {
    "name": "ipython",
    "version": 3
   },
   "file_extension": ".py",
   "mimetype": "text/x-python",
   "name": "python",
   "nbconvert_exporter": "python",
   "pygments_lexer": "ipython3",
   "version": "3.10.8"
  },
  "widgets": {
   "application/vnd.jupyter.widget-state+json": {
    "state": {
     "0593da05f58a4192936fc4761e5dbf0b": {
      "model_module": "@jupyter-widgets/controls",
      "model_module_version": "2.0.0",
      "model_name": "HTMLModel",
      "state": {
       "layout": "IPY_MODEL_b20fdfc0d4de4e80bfdbaa315064c8a4",
       "style": "IPY_MODEL_0ddd06e709b84af2aa06e314190c3e74",
       "value": "<p style='font-family: IBM Plex Sans, Arial, Helvetica, sans-serif; font-size: 20px; font-weight: medium;'>Circuit Properties</p>"
      }
     },
     "0ddd06e709b84af2aa06e314190c3e74": {
      "model_module": "@jupyter-widgets/controls",
      "model_module_version": "2.0.0",
      "model_name": "HTMLStyleModel",
      "state": {
       "description_width": "",
       "font_size": null,
       "text_color": null
      }
     },
     "2435402bf8794a8a9baad48bee90ee74": {
      "model_module": "@jupyter-widgets/base",
      "model_module_version": "2.0.0",
      "model_name": "LayoutModel",
      "state": {}
     },
     "2a1a373f0b53422083cf27abd4f2bbc1": {
      "model_module": "@jupyter-widgets/controls",
      "model_module_version": "2.0.0",
      "model_name": "HTMLStyleModel",
      "state": {
       "description_width": "",
       "font_size": null,
       "text_color": null
      }
     },
     "2dce82145f904ef393a2d9bece7c31af": {
      "model_module": "@jupyter-widgets/base",
      "model_module_version": "2.0.0",
      "model_name": "LayoutModel",
      "state": {
       "margin": "0px 0px 0px 37px",
       "width": "600px"
      }
     },
     "351569c620d0469385dbb3faeaedbec6": {
      "model_module": "@jupyter-widgets/base",
      "model_module_version": "2.0.0",
      "model_name": "LayoutModel",
      "state": {
       "width": "190px"
      }
     },
     "37992e78138d4fe9be0e568940c5ca3d": {
      "model_module": "@jupyter-widgets/controls",
      "model_module_version": "2.0.0",
      "model_name": "HTMLStyleModel",
      "state": {
       "description_width": "",
       "font_size": null,
       "text_color": null
      }
     },
     "44f1f2a883774ae39cb51a35ef5941ca": {
      "model_module": "@jupyter-widgets/controls",
      "model_module_version": "2.0.0",
      "model_name": "HTMLStyleModel",
      "state": {
       "description_width": "",
       "font_size": null,
       "text_color": null
      }
     },
     "53d145295b644ba6926c36f8ebba2a7e": {
      "model_module": "@jupyter-widgets/controls",
      "model_module_version": "2.0.0",
      "model_name": "GridBoxModel",
      "state": {
       "children": [
        "IPY_MODEL_6ded1f1a126f4f539a19741f697e45fe"
       ],
       "layout": "IPY_MODEL_e17134b5c5134bafb875b4cbb01332cc"
      }
     },
     "6200cb00528e47fbb3510858f5a0f016": {
      "model_module": "@jupyter-widgets/controls",
      "model_module_version": "2.0.0",
      "model_name": "ButtonStyleModel",
      "state": {
       "font_family": null,
       "font_size": null,
       "font_style": null,
       "font_variant": null,
       "font_weight": null,
       "text_color": null,
       "text_decoration": null
      }
     },
     "630db064c5f44861b8e1e4c0e21a8f64": {
      "model_module": "@jupyter-widgets/controls",
      "model_module_version": "2.0.0",
      "model_name": "HTMLStyleModel",
      "state": {
       "description_width": "",
       "font_size": null,
       "text_color": null
      }
     },
     "64245a2086ed451c92f012d3047b0aff": {
      "model_module": "@jupyter-widgets/controls",
      "model_module_version": "2.0.0",
      "model_name": "HTMLStyleModel",
      "state": {
       "description_width": "",
       "font_size": null,
       "text_color": null
      }
     },
     "6ded1f1a126f4f539a19741f697e45fe": {
      "model_module": "@jupyter-widgets/controls",
      "model_module_version": "2.0.0",
      "model_name": "ButtonModel",
      "state": {
       "button_style": "primary",
       "description": "Clear",
       "layout": "IPY_MODEL_7b0c0ae1d0a144dd9b803222e87bbc83",
       "style": "IPY_MODEL_6200cb00528e47fbb3510858f5a0f016",
       "tooltip": null
      }
     },
     "7b0c0ae1d0a144dd9b803222e87bbc83": {
      "model_module": "@jupyter-widgets/base",
      "model_module_version": "2.0.0",
      "model_name": "LayoutModel",
      "state": {
       "grid_area": "right",
       "padding": "0px 0px 0px 0px",
       "width": "70px"
      }
     },
     "7bb8da723ce94b9d966777d24197d966": {
      "model_module": "@jupyter-widgets/controls",
      "model_module_version": "2.0.0",
      "model_name": "HBoxModel",
      "state": {
       "children": [
        "IPY_MODEL_d7df8118b4ba406395eb69675d6e2c1f",
        "IPY_MODEL_f01739f68a424a5fa6fda686cc9a5f22",
        "IPY_MODEL_e9d31309ebbb47d2bc58678fa14f718c",
        "IPY_MODEL_d64f443ca334428d8eb7ecaba4165ac4",
        "IPY_MODEL_f088874e3217439b9662b40f80e55cc1"
       ],
       "layout": "IPY_MODEL_2dce82145f904ef393a2d9bece7c31af"
      }
     },
     "899d87a686984e79bc01d8a8d273edb0": {
      "model_module": "@jupyter-widgets/base",
      "model_module_version": "2.0.0",
      "model_name": "LayoutModel",
      "state": {
       "width": "95px"
      }
     },
     "b20fdfc0d4de4e80bfdbaa315064c8a4": {
      "model_module": "@jupyter-widgets/base",
      "model_module_version": "2.0.0",
      "model_name": "LayoutModel",
      "state": {
       "margin": "0px 0px 10px 0px"
      }
     },
     "d64f443ca334428d8eb7ecaba4165ac4": {
      "model_module": "@jupyter-widgets/controls",
      "model_module_version": "2.0.0",
      "model_name": "HTMLModel",
      "state": {
       "layout": "IPY_MODEL_e69d6573f0b74af085a71c88b4bc81d0",
       "style": "IPY_MODEL_37992e78138d4fe9be0e568940c5ca3d",
       "value": "<h5>Queue</h5>"
      }
     },
     "d7df8118b4ba406395eb69675d6e2c1f": {
      "model_module": "@jupyter-widgets/controls",
      "model_module_version": "2.0.0",
      "model_name": "HTMLModel",
      "state": {
       "layout": "IPY_MODEL_351569c620d0469385dbb3faeaedbec6",
       "style": "IPY_MODEL_630db064c5f44861b8e1e4c0e21a8f64",
       "value": "<h5>Job ID</h5>"
      }
     },
     "e17134b5c5134bafb875b4cbb01332cc": {
      "model_module": "@jupyter-widgets/base",
      "model_module_version": "2.0.0",
      "model_name": "LayoutModel",
      "state": {
       "grid_template_areas": "\n                                       \". . . . right \"\n                                        ",
       "grid_template_columns": "20% 20% 20% 20% 20%",
       "width": "100%"
      }
     },
     "e69d6573f0b74af085a71c88b4bc81d0": {
      "model_module": "@jupyter-widgets/base",
      "model_module_version": "2.0.0",
      "model_name": "LayoutModel",
      "state": {
       "width": "70px"
      }
     },
     "e9d31309ebbb47d2bc58678fa14f718c": {
      "model_module": "@jupyter-widgets/controls",
      "model_module_version": "2.0.0",
      "model_name": "HTMLModel",
      "state": {
       "layout": "IPY_MODEL_899d87a686984e79bc01d8a8d273edb0",
       "style": "IPY_MODEL_2a1a373f0b53422083cf27abd4f2bbc1",
       "value": "<h5>Status</h5>"
      }
     },
     "f01739f68a424a5fa6fda686cc9a5f22": {
      "model_module": "@jupyter-widgets/controls",
      "model_module_version": "2.0.0",
      "model_name": "HTMLModel",
      "state": {
       "layout": "IPY_MODEL_f99af2caaf18445c96a316479f2e454c",
       "style": "IPY_MODEL_44f1f2a883774ae39cb51a35ef5941ca",
       "value": "<h5>Backend</h5>"
      }
     },
     "f088874e3217439b9662b40f80e55cc1": {
      "model_module": "@jupyter-widgets/controls",
      "model_module_version": "2.0.0",
      "model_name": "HTMLModel",
      "state": {
       "layout": "IPY_MODEL_2435402bf8794a8a9baad48bee90ee74",
       "style": "IPY_MODEL_64245a2086ed451c92f012d3047b0aff",
       "value": "<h5>Message</h5>"
      }
     },
     "f99af2caaf18445c96a316479f2e454c": {
      "model_module": "@jupyter-widgets/base",
      "model_module_version": "2.0.0",
      "model_name": "LayoutModel",
      "state": {
       "width": "145px"
      }
     }
    },
    "version_major": 2,
    "version_minor": 0
   }
  }
 },
 "nbformat": 4,
 "nbformat_minor": 5
}
